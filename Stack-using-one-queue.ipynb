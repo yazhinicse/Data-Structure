{
 "cells": [
  {
   "cell_type": "code",
   "execution_count": 1,
   "metadata": {},
   "outputs": [],
   "source": [
    "class Stack:\n",
    "    def __init__(self):\n",
    "        self.q = Queue()\n",
    "        self.s_size = 0\n",
    "        \n",
    "    def is_empty(self):\n",
    "        return self.q.is_empty()\n",
    "    \n",
    "    def push(self, data):\n",
    "        self.s_size += 1\n",
    "        self.q.enqueue(data)\n",
    "        \n",
    "    def pop(self):\n",
    "        if self.is_empty():\n",
    "            print(\"Stack is empty!!! You cannot delete anything from the stack!!!\")\n",
    "        else:\n",
    "            self.s_size -= 1\n",
    "            # to pop out all the values from the queue from the front and push it back to the queue so that the value that is entered last becomes the first element in the list\n",
    "            for _ in range(self.q.get_size() - 1):  \n",
    "                del_val = self.q.dequeue()\n",
    "                self.q.enqueue(del_val)\n",
    "            return self.q.dequeue()\n",
    "    \n",
    "    def display_stack(self):\n",
    "        if self.q.is_empty():\n",
    "            print(\"Stack is empty!!!\")\n",
    "        return self.q.display_queue()\n",
    "    \n",
    "    def get_size(self):\n",
    "        return self.s_size"
   ]
  },
  {
   "cell_type": "code",
   "execution_count": 4,
   "metadata": {},
   "outputs": [
    {
     "name": "stdout",
     "output_type": "stream",
     "text": [
      "0\n",
      "1\n"
     ]
    }
   ],
   "source": [
    "for i in range(2):\n",
    "    print(i)"
   ]
  },
  {
   "cell_type": "code",
   "execution_count": 2,
   "metadata": {},
   "outputs": [],
   "source": [
    "class Queue:\n",
    "    def __init__(self):\n",
    "        self.items = []\n",
    "        self.q_size = 0\n",
    "        \n",
    "    def is_empty(self):\n",
    "        return self.items == []\n",
    "    \n",
    "    def enqueue(self, data):\n",
    "        self.q_size += 1\n",
    "        self.items.append(data)\n",
    "        \n",
    "    def dequeue(self):\n",
    "        self.q_size -= 1\n",
    "        return self.items.pop(0)\n",
    "    \n",
    "    def get_size(self):\n",
    "        return self.q_size\n",
    "    \n",
    "    def display_queue(self):\n",
    "        print(self.items[0:self.q_size])"
   ]
  },
  {
   "cell_type": "code",
   "execution_count": 3,
   "metadata": {},
   "outputs": [
    {
     "name": "stdout",
     "output_type": "stream",
     "text": [
      "Enter your option (PUSH/POP/Quit):pop\n",
      "Stack is empty!!! You cannot delete anything from the stack!!!\n",
      "Stack is empty!!!\n",
      "[]\n",
      "Current size of the stack is  0\n",
      "----------------------------\n",
      "\n",
      "Enter your option (PUSH/POP/Quit):push\n",
      "Enter the value: 5\n",
      "['5']\n",
      "Current size of the stack is  1\n",
      "----------------------------\n",
      "\n",
      "Enter your option (PUSH/POP/Quit):push\n",
      "Enter the value: 2\n",
      "['5', '2']\n",
      "Current size of the stack is  2\n",
      "----------------------------\n",
      "\n",
      "Enter your option (PUSH/POP/Quit):push\n",
      "Enter the value: 8\n",
      "['5', '2', '8']\n",
      "Current size of the stack is  3\n",
      "----------------------------\n",
      "\n",
      "Enter your option (PUSH/POP/Quit):pop\n",
      "['5', '2']\n",
      "Current size of the stack is  2\n",
      "----------------------------\n",
      "\n",
      "Enter your option (PUSH/POP/Quit):pop\n",
      "['5']\n",
      "Current size of the stack is  1\n",
      "----------------------------\n",
      "\n",
      "Enter your option (PUSH/POP/Quit):pop\n",
      "Stack is empty!!!\n",
      "[]\n",
      "Current size of the stack is  0\n",
      "----------------------------\n",
      "\n",
      "Enter your option (PUSH/POP/Quit):quiz\n",
      "Enter your option (PUSH/POP/Quit):quit\n"
     ]
    }
   ],
   "source": [
    "if __name__ == '__main__':\n",
    "    \n",
    "    stack = Stack()\n",
    "      \n",
    "    while True:\n",
    "        \n",
    "        option = input(\"Enter your option (PUSH/POP/Quit):\")\n",
    "        option = option.lower()\n",
    "        \n",
    "        if option == \"push\" :\n",
    "            val = input(\"Enter the value: \")\n",
    "            stack.push(val)      \n",
    "            stack.display_stack()\n",
    "            print(\"Current size of the stack is \", stack.get_size())\n",
    "            print(\"----------------------------\\n\")\n",
    "    \n",
    "        elif option == \"pop\":\n",
    "            stack.pop()\n",
    "            stack.display_stack()\n",
    "            print(\"Current size of the stack is \", stack.get_size())\n",
    "            print(\"----------------------------\\n\")\n",
    "            \n",
    "        elif option == \"quit\":\n",
    "            break"
   ]
  },
  {
   "cell_type": "code",
   "execution_count": null,
   "metadata": {},
   "outputs": [],
   "source": []
  }
 ],
 "metadata": {
  "kernelspec": {
   "display_name": "Python 3",
   "language": "python",
   "name": "python3"
  },
  "language_info": {
   "codemirror_mode": {
    "name": "ipython",
    "version": 3
   },
   "file_extension": ".py",
   "mimetype": "text/x-python",
   "name": "python",
   "nbconvert_exporter": "python",
   "pygments_lexer": "ipython3",
   "version": "3.6.9"
  }
 },
 "nbformat": 4,
 "nbformat_minor": 5
}
