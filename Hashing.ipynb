{
 "cells": [
  {
   "cell_type": "code",
   "execution_count": 1,
   "metadata": {},
   "outputs": [],
   "source": [
    "sub_code = {'200': 'MIS3' ,'201': 'Robotics', '202': 'OS', '203': 'DSA', '204': 'ICS', '205': 'PML'}"
   ]
  },
  {
   "cell_type": "code",
   "execution_count": 2,
   "metadata": {},
   "outputs": [
    {
     "name": "stdout",
     "output_type": "stream",
     "text": [
      "DSA\n"
     ]
    }
   ],
   "source": [
    "print(sub_code['203'])"
   ]
  },
  {
   "cell_type": "code",
   "execution_count": 3,
   "metadata": {},
   "outputs": [
    {
     "data": {
      "text/plain": [
       "{'200': 'ABC',\n",
       " '201': 'Robotics',\n",
       " '202': 'OS',\n",
       " '203': 'DSA',\n",
       " '204': 'ICS',\n",
       " '205': 'PML'}"
      ]
     },
     "execution_count": 3,
     "metadata": {},
     "output_type": "execute_result"
    }
   ],
   "source": [
    "sub_code['200'] = \"ABC\"\n",
    "sub_code"
   ]
  },
  {
   "cell_type": "code",
   "execution_count": 4,
   "metadata": {},
   "outputs": [
    {
     "data": {
      "text/plain": [
       "dict"
      ]
     },
     "execution_count": 4,
     "metadata": {},
     "output_type": "execute_result"
    }
   ],
   "source": [
    "type(sub_code)"
   ]
  },
  {
   "cell_type": "code",
   "execution_count": 5,
   "metadata": {},
   "outputs": [
    {
     "name": "stdout",
     "output_type": "stream",
     "text": [
      "[None, None, None, None, None, None, None, None, None, None]\n"
     ]
    }
   ],
   "source": [
    "hash_table = [None] * 10\n",
    "print(hash_table)"
   ]
  },
  {
   "cell_type": "code",
   "execution_count": 6,
   "metadata": {},
   "outputs": [
    {
     "data": {
      "text/plain": [
       "10"
      ]
     },
     "execution_count": 6,
     "metadata": {},
     "output_type": "execute_result"
    }
   ],
   "source": [
    "len(hash_table)"
   ]
  },
  {
   "cell_type": "code",
   "execution_count": 7,
   "metadata": {},
   "outputs": [],
   "source": [
    "def hashing_func(key):\n",
    "    return key % len(hash_table)"
   ]
  },
  {
   "cell_type": "code",
   "execution_count": 8,
   "metadata": {},
   "outputs": [
    {
     "name": "stdout",
     "output_type": "stream",
     "text": [
      "0\n",
      "4\n",
      "8\n"
     ]
    }
   ],
   "source": [
    "print(hashing_func(10))\n",
    "print(hashing_func(14))\n",
    "print(hashing_func(88))"
   ]
  },
  {
   "cell_type": "code",
   "execution_count": 9,
   "metadata": {},
   "outputs": [],
   "source": [
    "def insert(hash_table, key, value):\n",
    "    hash_key = hashing_func(key)\n",
    "    hash_table[hash_key] = value "
   ]
  },
  {
   "cell_type": "code",
   "execution_count": 10,
   "metadata": {},
   "outputs": [],
   "source": [
    "insert(hash_table, 200, 'MIS3')\n",
    "insert(hash_table, 201, 'Robotics')"
   ]
  },
  {
   "cell_type": "code",
   "execution_count": 11,
   "metadata": {},
   "outputs": [
    {
     "data": {
      "text/plain": [
       "['MIS3', 'Robotics', None, None, None, None, None, None, None, None]"
      ]
     },
     "execution_count": 11,
     "metadata": {},
     "output_type": "execute_result"
    }
   ],
   "source": [
    "hash_table"
   ]
  },
  {
   "cell_type": "code",
   "execution_count": 12,
   "metadata": {},
   "outputs": [
    {
     "data": {
      "text/plain": [
       "['MIS3', 'ICN', None, None, None, None, None, None, None, None]"
      ]
     },
     "execution_count": 12,
     "metadata": {},
     "output_type": "execute_result"
    }
   ],
   "source": [
    "insert(hash_table, 211, 'ICN') # collision\n",
    "hash_table"
   ]
  },
  {
   "cell_type": "markdown",
   "metadata": {},
   "source": [
    "### Chaining"
   ]
  },
  {
   "cell_type": "code",
   "execution_count": 13,
   "metadata": {},
   "outputs": [
    {
     "name": "stdout",
     "output_type": "stream",
     "text": [
      "[[], [], [], [], [], [], [], [], [], []]\n"
     ]
    }
   ],
   "source": [
    "hash_table = [[] for _ in range(10)]\n",
    "print (hash_table)"
   ]
  },
  {
   "cell_type": "code",
   "execution_count": 14,
   "metadata": {},
   "outputs": [
    {
     "name": "stdout",
     "output_type": "stream",
     "text": [
      "0\n",
      "0\n",
      "5\n"
     ]
    }
   ],
   "source": [
    "def hashing_func(key):\n",
    "    return key % len(hash_table)\n",
    "\n",
    "print (hashing_func(10))\n",
    "print (hashing_func(20)) \n",
    "print (hashing_func(25)) "
   ]
  },
  {
   "cell_type": "code",
   "execution_count": 15,
   "metadata": {},
   "outputs": [],
   "source": [
    "def insert(hash_table, key, value):\n",
    "    hash_key = hashing_func(key)\n",
    "    hash_table[hash_key].append(value)"
   ]
  },
  {
   "cell_type": "code",
   "execution_count": 16,
   "metadata": {},
   "outputs": [
    {
     "data": {
      "text/plain": [
       "[['MIS3'], ['Robotics'], [], [], [], [], [], [], [], []]"
      ]
     },
     "execution_count": 16,
     "metadata": {},
     "output_type": "execute_result"
    }
   ],
   "source": [
    "insert(hash_table, 200, 'MIS3')\n",
    "insert(hash_table, 201, 'Robotics')\n",
    "hash_table"
   ]
  },
  {
   "cell_type": "code",
   "execution_count": 17,
   "metadata": {},
   "outputs": [
    {
     "data": {
      "text/plain": [
       "[['MIS3'], ['Robotics', 'ICN'], [], [], [], [], [], [], [], []]"
      ]
     },
     "execution_count": 17,
     "metadata": {},
     "output_type": "execute_result"
    }
   ],
   "source": [
    "insert(hash_table, 211, 'ICN') \n",
    "hash_table"
   ]
  },
  {
   "cell_type": "code",
   "execution_count": 18,
   "metadata": {},
   "outputs": [
    {
     "data": {
      "text/plain": [
       "3064192380563337143"
      ]
     },
     "execution_count": 18,
     "metadata": {},
     "output_type": "execute_result"
    }
   ],
   "source": [
    "hash('17')"
   ]
  },
  {
   "cell_type": "code",
   "execution_count": 19,
   "metadata": {},
   "outputs": [
    {
     "name": "stdout",
     "output_type": "stream",
     "text": [
      "0\n",
      "1\n",
      "3\n",
      "3\n",
      "[[('200', 'MIS3')], [('201', 'Robotics')], [], [('211', 'ICN'), ('203', 'DSA')]]\n",
      "The subject name for the code ICN\n"
     ]
    }
   ],
   "source": [
    "import pprint\n",
    "\n",
    "class Hashtable:\n",
    "    def __init__(self, elements):\n",
    "        self.table_size = len(elements)\n",
    "        self.tables = [[] for i in range(self.table_size)]\n",
    "        self.assign_tables(elements)\n",
    "\n",
    "    def assign_tables(self, elements):\n",
    "        for key, value in elements:\n",
    "            index = int(key) % int(self.table_size)\n",
    "            print(index)\n",
    "            self.tables[index].append((key, value))\n",
    "\n",
    "    def get_value(self, input_key):\n",
    "        index = int(input_key) % int(self.table_size) # k mod m\n",
    "        table = self.tables[index]\n",
    "        for key, value in table:\n",
    "            if key == input_key:\n",
    "                return(value)\n",
    "        return None\n",
    "\n",
    "    def __str__(self):\n",
    "        return pprint.pformat(self.tables) # here pformat is used to return a printable representation of the object\n",
    "\n",
    "if __name__ == \"__main__\":\n",
    "     sub_code = [\n",
    "        ('200', 'MIS3'),\n",
    "        ('201', 'Robotics'),\n",
    "        ('211', 'ICN'),\n",
    "        ('203', 'DSA')\n",
    "    ]\n",
    "hashtable = Hashtable(sub_code)\n",
    "print(hashtable)\n",
    "print(f\"The subject name for the code {hashtable.get_value('211')}\")"
   ]
  },
  {
   "cell_type": "code",
   "execution_count": 20,
   "metadata": {},
   "outputs": [
    {
     "name": "stdout",
     "output_type": "stream",
     "text": [
      "Hash table is :-\n",
      "\n",
      "index \t value\n",
      "0 \t 10\n",
      "1 \t 90\n",
      "2 \t None\n",
      "3 \t None\n",
      "4 \t None\n",
      "5 \t 25\n",
      "6 \t 5\n",
      "7 \t 35\n",
      "8 \t None\n",
      "9 \t None\n",
      "\n",
      "Given key is present at index 7\n"
     ]
    }
   ],
   "source": [
    "import numpy as np\n",
    "\n",
    "class Hash_table() :\n",
    "    \n",
    "    def __init__(self,size) :\n",
    "        self.size = size\n",
    "        self.hashtable = np.array([None]*self.size)\n",
    "        \n",
    "    def hash(self,key) :\n",
    "        \n",
    "        # Hash function h(x) = x%10\n",
    "        index = key%10 \n",
    "        \n",
    "        if self.hashtable[index] == None :\n",
    "            return index\n",
    "        else :\n",
    "            \n",
    "            # Implementing linear probing\n",
    "            while self.hashtable[index] != None :\n",
    "                index = (index+1)%10\n",
    "                \n",
    "            return index\n",
    "        \n",
    "    def insert(self,key) :\n",
    "        \n",
    "        index = self.hash(key)\n",
    "        self.hashtable[index] = key\n",
    "        \n",
    "    def search(self,key) :\n",
    "        \n",
    "        index = key%10\n",
    "        \n",
    "        if self.hashtable[index] != key :\n",
    "            while self.hashtable[index] != key and self.hashtable[index] != None :\n",
    "                index = (index+1)%10\n",
    "                \n",
    "        if self.hashtable[index] == key :\n",
    "            return index\n",
    "        else :\n",
    "            return None\n",
    "    \n",
    "    def print_hashtable(self) :\n",
    "        \n",
    "        print(\"Hash table is :-\\n\\nindex \\t value\")\n",
    "        for x in range(len(self.hashtable)) :\n",
    "            print(x,\"\\t\",self.hashtable[x])\n",
    "\n",
    "# Initializing hash table of size 10\n",
    "HT = Hash_table(10)\n",
    "\n",
    "# Inserting only 5 values to make λ <= 0.5\n",
    "HT.insert(10)\n",
    "HT.insert(90)\n",
    "HT.insert(25)\n",
    "HT.insert(5)\n",
    "HT.insert(35)\n",
    "\n",
    "HT.print_hashtable()\n",
    "\n",
    "index = HT.search(35)\n",
    "\n",
    "if index!= None :\n",
    "    print(\"\\nGiven key is present at index\",index)\n",
    "else :\n",
    "    print(\"\\nGiven key is not present in the hash table\")"
   ]
  },
  {
   "cell_type": "code",
   "execution_count": null,
   "metadata": {},
   "outputs": [],
   "source": [
    "import numpy as np\n",
    "\n",
    "class Hash_table() :\n",
    "    \n",
    "    def __init__(self,size) :\n",
    "        self.size = size\n",
    "        self.hashtable = np.array([None]*self.size)\n",
    "        \n",
    "    def hash(self,key) :\n",
    "        \n",
    "        # Hash function h(x) = x%10\n",
    "        index = key%10 \n",
    "        \n",
    "        if self.hashtable[index] == None :\n",
    "            return index\n",
    "        else :\n",
    "            i = 1\n",
    "            # Implementing Quadratic probing\n",
    "            while self.hashtable[(index+(i*i))%10] != None :\n",
    "                i += 1\n",
    "                \n",
    "            return (index+(i*i))%10\n",
    "        \n",
    "    def insert(self,key) :\n",
    "        \n",
    "        index = self.hash(key)\n",
    "        self.hashtable[index] = key\n",
    "        \n",
    "    def search(self,key) :\n",
    "        \n",
    "        index = key%10\n",
    "        \n",
    "        i = 0\n",
    "        if self.hashtable[index] != key :\n",
    "            while self.hashtable[(index+(i*i))%10] != key and self.hashtable[(index+(i*i))%10] != None :\n",
    "                i += 1\n",
    "                \n",
    "        if self.hashtable[(index+(i*i))%10] == key :\n",
    "            return (index+(i*i))%10\n",
    "        else :\n",
    "            return None\n",
    "    \n",
    "    def print_hashtable(self) :\n",
    "        \n",
    "        print(\"Hash table is :-\\n\\nindex \\t value\")\n",
    "        for x in range(len(self.hashtable)) :\n",
    "            print(x,\"\\t\",self.hashtable[x])\n",
    "\n",
    "# Initializing hash table of size 10\n",
    "HT = Hash_table(10)\n",
    "\n",
    "HT.insert(10)\n",
    "HT.insert(90)\n",
    "HT.insert(80)\n",
    "HT.insert(44)\n",
    "HT.insert(35)\n",
    "HT.insert(5)\n",
    "HT.insert(25)\n",
    "\n",
    "HT.print_hashtable()\n",
    "\n"
   ]
  },
  {
   "cell_type": "code",
   "execution_count": null,
   "metadata": {},
   "outputs": [],
   "source": [
    "index = HT.search(10)\n",
    "\n",
    "if index!= None :\n",
    "    print(\"\\nGiven key is present at index\",index)\n",
    "else :\n",
    "    print(\"\\nGiven key is not present in the hash table\")"
   ]
  },
  {
   "cell_type": "code",
   "execution_count": null,
   "metadata": {},
   "outputs": [],
   "source": [
    "bin(108%32)"
   ]
  },
  {
   "cell_type": "code",
   "execution_count": null,
   "metadata": {},
   "outputs": [],
   "source": [
    "bin(1586%32)"
   ]
  },
  {
   "cell_type": "code",
   "execution_count": null,
   "metadata": {},
   "outputs": [],
   "source": []
  }
 ],
 "metadata": {
  "kernelspec": {
   "display_name": "Python 3",
   "language": "python",
   "name": "python3"
  },
  "language_info": {
   "codemirror_mode": {
    "name": "ipython",
    "version": 3
   },
   "file_extension": ".py",
   "mimetype": "text/x-python",
   "name": "python",
   "nbconvert_exporter": "python",
   "pygments_lexer": "ipython3",
   "version": "3.6.9"
  }
 },
 "nbformat": 4,
 "nbformat_minor": 4
}
