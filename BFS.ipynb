{
 "cells": [
  {
   "cell_type": "code",
   "execution_count": 13,
   "metadata": {},
   "outputs": [
    {
     "name": "stdout",
     "output_type": "stream",
     "text": [
      "[(1, 2), (1, 3), (2, 4), (2, 5), (3, 6), (3, 7)]\n",
      "Source node is  1\n",
      "1 2 3 4 5 6 7 "
     ]
    },
    {
     "data": {
      "image/png": "[encoded data removed]",
      "text/plain": [
       "<Figure size 432x288 with 1 Axes>"
      ]
     },
     "metadata": {},
     "output_type": "display_data"
    }
   ],
   "source": [
    "import networkx as nx\n",
    "import matplotlib.pyplot as plt\n",
    "\n",
    "graph = {\n",
    "  '1' : ['2' ,'3'],\n",
    "  '2' : ['4', '5'],\n",
    "  '3' : ['6', '7'],\n",
    "  '4' : [],\n",
    "  '5' : [],\n",
    "  '6' : [],\n",
    "  '7' : [],  \n",
    "}\n",
    "\n",
    "visited = [] # List for visited nodes.\n",
    "queue = []     #Initialize a queue\n",
    "\n",
    "def bfs(visited, graph, node): #function for BFS\n",
    "  visited.append(node)\n",
    "  queue.append(node)\n",
    "\n",
    "  while queue:          # Creating loop to visit each node\n",
    "    m = queue.pop(0) \n",
    "    print (m, end = \" \") \n",
    "\n",
    "    for neighbour in graph[m]:\n",
    "      if neighbour not in visited:\n",
    "        visited.append(neighbour)\n",
    "        if neighbour not in queue:\n",
    "            queue.append(neighbour)\n",
    "    #print(\"\\n Visited:\", visited)\n",
    "    #print(\"\\nQueue:\", queue)\n",
    "    \n",
    "    \n",
    "if __name__ == '__main__':\n",
    "    \n",
    "    edge = []\n",
    "    for i in graph:\n",
    "        for k in graph[i]:\n",
    "            tup = int(i), int(k)\n",
    "            edge.append(tup)\n",
    "    g = nx.Graph()\n",
    "    for e in edge:\n",
    "        g.add_edge(e[0], e[1])\n",
    "    print(g.edges)\n",
    "    nx.draw(g, with_labels = True)\n",
    "    source = 1\n",
    "    print(\"Source node is \", source)\n",
    "    bfs(visited, graph, str(source))    # function calling"
   ]
  },
  {
   "cell_type": "code",
   "execution_count": null,
   "metadata": {},
   "outputs": [],
   "source": []
  }
 ],
 "metadata": {
  "kernelspec": {
   "display_name": "Python 3",
   "language": "python",
   "name": "python3"
  },
  "language_info": {
   "codemirror_mode": {
    "name": "ipython",
    "version": 3
   },
   "file_extension": ".py",
   "mimetype": "text/x-python",
   "name": "python",
   "nbconvert_exporter": "python",
   "pygments_lexer": "ipython3",
   "version": "3.6.9"
  }
 },
 "nbformat": 4,
 "nbformat_minor": 4
}
