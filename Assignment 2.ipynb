{
 "cells": [
  {
   "cell_type": "markdown",
   "id": "f0d6e053",
   "metadata": {},
   "source": [
    "# 21DS603 - Assignment 2"
   ]
  },
  {
   "cell_type": "markdown",
   "id": "78977808",
   "metadata": {},
   "source": [
    "## Problem 1"
   ]
  },
  {
   "cell_type": "markdown",
   "id": "e5157074",
   "metadata": {},
   "source": [
    "### Alice takes the innermost book shelf and reverse the order. If the order is reversed then the last book kept occupies the first position and the first book kept occupies the last position. So to automate this process Stack can be used.In stack elements are stacked on top of each other. So the last element can be accessed first.So Last In First Out takes place here."
   ]
  },
  {
   "cell_type": "markdown",
   "id": "acb19cdc",
   "metadata": {},
   "source": [
    "## Problem 2"
   ]
  },
  {
   "cell_type": "code",
   "execution_count": 5,
   "id": "9042a5ce",
   "metadata": {},
   "outputs": [
    {
     "name": "stdout",
     "output_type": "stream",
     "text": [
      "The elements in A_bookshelf is deque([1])\n",
      "The elements in A_bookshelf is deque([1, 2])\n",
      "The elements in A_bookshelf is deque([1, 2, 3])\n",
      "The elements in A_bookshelf is deque([1, 2, 3, 4])\n",
      "The elements in A_bookshelf is deque([1, 2, 3, 4, 5])\n",
      "The elements in B_bookshelf is deque([6])\n",
      "The elements in B_bookshelf is deque([6, 7])\n",
      "The elements in B_bookshelf is deque([6, 7, 8])\n",
      "The elements in B_bookshelf is deque([6, 7, 8, 9])\n",
      "The elements in B_bookshelf is deque([6, 7, 8, 9, 10])\n",
      "The order in which the books are kept on separate shelf is :  [1, 10, 2, 9, 3, 8, 4, 7, 5, 6]\n"
     ]
    }
   ],
   "source": [
    "# These define the order in which books are kept. The left end implies it was kept first.\n",
    "A_bookshelf = [1, 2, 3, 4, 5]\n",
    "B_bookshelf = [6, 7, 8, 9,10]\n",
    "\n",
    "from collections import deque\n",
    "stack = deque()\n",
    "queue = deque()\n",
    "\n",
    "for books in A_bookshelf:\n",
    " queue.append(books)\n",
    " # print(queue[0]) Used to access the first element that was inserted inside the queue.\n",
    " # queue.popleft() Used to delete the first element of the queue\n",
    " print('The elements in A_bookshelf is',queue)\n",
    "\n",
    "for books in B_bookshelf:\n",
    " stack.append(books) # Appending to the end of stack\n",
    " # print(stack[-1]) Used to access the top element of the stack. That is the element that was inserted most recently.\n",
    " # stack.pop() Used to delete the most recently inserted element in the stack.\n",
    " print('The elements in B_bookshelf is',stack)\n",
    "    \n",
    "# print(\"The order in which A removes books from the shelf\")\n",
    "# while len(queue):\n",
    "#  print(queue.popleft())\n",
    "# We can observe that A takes out 1 first. Also 1 is the first book that A had kept in the bookshelf.\n",
    "\n",
    "# print(\"The order in which B removes books from the shelf\")\n",
    "# while len(stack):\n",
    "#  print(stack.pop())\n",
    "# We can observe that B takes out 10 first. Also 10 is the last book that B had kept in the bookshelf.\n",
    "\n",
    "separate_shelf = []\n",
    "while len(queue) or len(stack):\n",
    " if len(queue):\n",
    "  separate_shelf.append(queue.popleft())\n",
    " if len(stack):\n",
    "  separate_shelf.append(stack.pop())\n",
    "print(\"The order in which the books are kept on separate shelf is : \",separate_shelf)"
   ]
  },
  {
   "cell_type": "code",
   "execution_count": null,
   "id": "bb151a59",
   "metadata": {},
   "outputs": [],
   "source": []
  },
  {
   "cell_type": "code",
   "execution_count": null,
   "id": "7cf34000",
   "metadata": {},
   "outputs": [],
   "source": []
  }
 ],
 "metadata": {
  "kernelspec": {
   "display_name": "Python 3",
   "language": "python",
   "name": "python3"
  },
  "language_info": {
   "codemirror_mode": {
    "name": "ipython",
    "version": 3
   },
   "file_extension": ".py",
   "mimetype": "text/x-python",
   "name": "python",
   "nbconvert_exporter": "python",
   "pygments_lexer": "ipython3",
   "version": "3.8.8"
  }
 },
 "nbformat": 4,
 "nbformat_minor": 5
}
