{
 "cells": [
  {
   "cell_type": "code",
   "execution_count": 41,
   "metadata": {},
   "outputs": [
    {
     "data": {
      "text/plain": [
       "'01101000 01100101 01101100 01101100 01101111 00100000 01110111 01101111 01110010 01101100 01100100'"
      ]
     },
     "execution_count": 41,
     "metadata": {},
     "output_type": "execute_result"
    }
   ],
   "source": [
    "text = \"hello world\"\n",
    "bin_text = ' '.join(format(ord(x), '08b') for x in text)\n",
    "bin_text"
   ]
  },
  {
   "cell_type": "code",
   "execution_count": 42,
   "metadata": {},
   "outputs": [
    {
     "data": {
      "text/plain": [
       "97"
      ]
     },
     "execution_count": 42,
     "metadata": {},
     "output_type": "execute_result"
    }
   ],
   "source": [
    "ord('a')"
   ]
  },
  {
   "cell_type": "code",
   "execution_count": 43,
   "metadata": {},
   "outputs": [
    {
     "data": {
      "text/plain": [
       "448"
      ]
     },
     "execution_count": 43,
     "metadata": {},
     "output_type": "execute_result"
    }
   ],
   "source": [
    "512 - 64"
   ]
  },
  {
   "cell_type": "code",
   "execution_count": 44,
   "metadata": {},
   "outputs": [
    {
     "data": {
      "text/plain": [
       "'01101000 01100101 01101100 01101100 01101111 00100000 01110111 01101111 01110010 01101100 01100100 1'"
      ]
     },
     "execution_count": 44,
     "metadata": {},
     "output_type": "execute_result"
    }
   ],
   "source": [
    "bin_text_one = bin_text + \" 1\"\n",
    "bin_text_one"
   ]
  },
  {
   "cell_type": "code",
   "execution_count": 45,
   "metadata": {},
   "outputs": [
    {
     "data": {
      "text/plain": [
       "'01101000 01100101 01101100 01101100 01101111 00100000 01110111 01101111 01110010 01101100 01100100 10000000'"
      ]
     },
     "execution_count": 45,
     "metadata": {},
     "output_type": "execute_result"
    }
   ],
   "source": [
    "bin_text_one = bin_text + \" 1\".ljust(9, '0')\n",
    "bin_text_one"
   ]
  },
  {
   "cell_type": "code",
   "execution_count": 46,
   "metadata": {},
   "outputs": [
    {
     "data": {
      "text/plain": [
       "['abc', 'def', 'ghi']"
      ]
     },
     "execution_count": 46,
     "metadata": {},
     "output_type": "execute_result"
    }
   ],
   "source": [
    "q = \"abc def ghi\"\n",
    "q.split()"
   ]
  },
  {
   "cell_type": "code",
   "execution_count": 47,
   "metadata": {},
   "outputs": [
    {
     "name": "stdout",
     "output_type": "stream",
     "text": [
      "12\n",
      "352\n",
      "44\n",
      "00000000 00000000 00000000 00000000 00000000 00000000 00000000 00000000 00000000 00000000 00000000 00000000 00000000 00000000 00000000 00000000 00000000 00000000 00000000 00000000 00000000 00000000 00000000 00000000 00000000 00000000 00000000 00000000 00000000 00000000 00000000 00000000 00000000 00000000 00000000 00000000 00000000 00000000 00000000 00000000 00000000 00000000 00000000 00000000 \n",
      "44\n",
      "\n",
      "00000000 00000000 00000000 00000000 00000000 00000000 00000000 00000000 00000000 00000000 00000000 00000000 00000000 00000000 00000000 00000000 00000000 00000000 00000000 00000000 00000000 00000000 00000000 00000000 00000000 00000000 00000000 00000000 00000000 00000000 00000000 00000000 00000000 00000000 00000000 00000000 00000000 00000000 00000000 00000000 00000000 00000000 00000000 00000000\n",
      "44\n"
     ]
    }
   ],
   "source": [
    "num_words = len(bin_text_one.split())\n",
    "print(num_words)\n",
    "m = 448 - num_words*8\n",
    "print(m)\n",
    "n = int(m / 8)\n",
    "print(n)\n",
    "zero_string_1 = \"0 \".zfill(9)*n\n",
    "print(zero_string_1)\n",
    "print(len(zero_string_1.split()))\n",
    "#zero_string = zero_string_1[:-1]\n",
    "#print()\n",
    "#print(zero_string)\n",
    "#print(len(zero_string.split()))\n",
    "bin_text_one = bin_text_one + \" \" +zero_string"
   ]
  },
  {
   "cell_type": "code",
   "execution_count": 30,
   "metadata": {},
   "outputs": [
    {
     "data": {
      "text/plain": [
       "44"
      ]
     },
     "execution_count": 30,
     "metadata": {},
     "output_type": "execute_result"
    }
   ],
   "source": [
    "n"
   ]
  },
  {
   "cell_type": "code",
   "execution_count": 31,
   "metadata": {},
   "outputs": [
    {
     "data": {
      "text/plain": [
       "'000amrita'"
      ]
     },
     "execution_count": 31,
     "metadata": {},
     "output_type": "execute_result"
    }
   ],
   "source": [
    "a = \"amrita\"\n",
    "a.zfill(9)"
   ]
  },
  {
   "cell_type": "code",
   "execution_count": 32,
   "metadata": {},
   "outputs": [
    {
     "data": {
      "text/plain": [
       "'01101000 01100101 01101100 01101100 01101111 00100000 01110111 01101111 01110010 01101100 01100100 10000000 00000000 00000000 00000000 00000000 00000000 00000000 00000000 00000000 00000000 00000000 00000000 00000000 00000000 00000000 00000000 00000000 00000000 00000000 00000000 00000000 00000000 00000000 00000000 00000000 00000000 00000000 00000000 00000000 00000000 00000000 00000000 00000000 00000000 00000000 00000000 00000000 00000000 00000000 00000000 00000000 00000000 00000000 00000000 00000000'"
      ]
     },
     "execution_count": 32,
     "metadata": {},
     "output_type": "execute_result"
    }
   ],
   "source": [
    "bin_text_one"
   ]
  },
  {
   "cell_type": "code",
   "execution_count": null,
   "metadata": {},
   "outputs": [],
   "source": []
  },
  {
   "cell_type": "code",
   "execution_count": 55,
   "metadata": {},
   "outputs": [
    {
     "data": {
      "text/plain": [
       "56"
      ]
     },
     "execution_count": 55,
     "metadata": {},
     "output_type": "execute_result"
    }
   ],
   "source": [
    "len(bin_text_one.split())"
   ]
  },
  {
   "cell_type": "code",
   "execution_count": 6,
   "metadata": {},
   "outputs": [
    {
     "data": {
      "text/plain": [
       "88"
      ]
     },
     "execution_count": 6,
     "metadata": {},
     "output_type": "execute_result"
    }
   ],
   "source": [
    "length_string = len(bin_text.split())*8\n",
    "length_string"
   ]
  },
  {
   "cell_type": "code",
   "execution_count": 56,
   "metadata": {},
   "outputs": [
    {
     "data": {
      "text/plain": [
       "'01101000 01100101 01101100 01101100 01101111 00100000 01110111 01101111 01110010 01101100 01100100 10000000 00000000 00000000 00000000 00000000 00000000 00000000 00000000 00000000 00000000 00000000 00000000 00000000 00000000 00000000 00000000 00000000 00000000 00000000 00000000 00000000 00000000 00000000 00000000 00000000 00000000 00000000 00000000 00000000 00000000 00000000 00000000 00000000 00000000 00000000 00000000 00000000 00000000 00000000 00000000 00000000 00000000 00000000 00000000 00000000 00000000 00000000 00000000 00000000 00000000 00000000 00000000 10110000'"
      ]
     },
     "execution_count": 56,
     "metadata": {},
     "output_type": "execute_result"
    }
   ],
   "source": [
    "bin_string = bin_text_one + \" \" + \"0 \".zfill(9)*7 + bin(length_string)[2:]+\"0\"\n",
    "bin_string"
   ]
  },
  {
   "cell_type": "code",
   "execution_count": 57,
   "metadata": {},
   "outputs": [],
   "source": [
    "h= ['0x6a09e667', '0xbb67ae85', '0x3c6ef372', '0xa54ff53a', '0x510e527f', '0x9b05688c', '0x1f83d9ab' '0x5be0cd19']"
   ]
  },
  {
   "cell_type": "code",
   "execution_count": 58,
   "metadata": {},
   "outputs": [],
   "source": [
    "k = ['0x428a2f98', '0x71374491', '0xb5c0fbcf', '0xe9b5dba5', '0x3956c25b', '0x59f111f1', '0x923f82a4','0xab1c5ed5', '0xd807aa98', '0x12835b01', '0x243185be', '0x550c7dc3', '0x72be5d74', '0x80deb1fe','0x9bdc06a7', '0xc19bf174', '0xe49b69c1', '0xefbe4786', '0x0fc19dc6', '0x240ca1cc', '0x2de92c6f','0x4a7484aa', '0x5cb0a9dc', '0x76f988da', '0x983e5152', '0xa831c66d', '0xb00327c8', '0xbf597fc7','0xc6e00bf3', '0xd5a79147', '0x06ca6351', '0x14292967', '0x27b70a85', '0x2e1b2138', '0x4d2c6dfc','0x53380d13', '0x650a7354', '0x766a0abb', '0x81c2c92e', '0x92722c85', '0xa2bfe8a1', '0xa81a664b','0xc24b8b70', '0xc76c51a3', '0xd192e819', '0xd6990624', '0xf40e3585', '0x106aa070', '0x19a4c116','0x1e376c08', '0x2748774c', '0x34b0bcb5', '0x391c0cb3', '0x4ed8aa4a', '0x5b9cca4f', '0x682e6ff3','0x748f82ee', '0x78a5636f', '0x84c87814', '0x8cc70208', '0x90befffa', '0xa4506ceb', '0xbef9a3f7','0xc67178f2']"
   ]
  },
  {
   "cell_type": "code",
   "execution_count": 60,
   "metadata": {},
   "outputs": [
    {
     "data": {
      "text/plain": [
       "64"
      ]
     },
     "execution_count": 60,
     "metadata": {},
     "output_type": "execute_result"
    }
   ],
   "source": [
    "len_bin_string = len(bin_string.split())\n",
    "len_bin_string"
   ]
  },
  {
   "cell_type": "code",
   "execution_count": 65,
   "metadata": {},
   "outputs": [],
   "source": [
    "chunks = []\n",
    "bin_seq = bin_string.split()\n",
    "\n",
    "for i in range(0, len_bin_string+4, 4):\n",
    "    chunks.append(\"\".join(bin_seq[i:i+4]))\n",
    "chunks = chunks[:-1]"
   ]
  },
  {
   "cell_type": "code",
   "execution_count": 66,
   "metadata": {},
   "outputs": [
    {
     "data": {
      "text/plain": [
       "'01101000011001010110110001101100'"
      ]
     },
     "execution_count": 66,
     "metadata": {},
     "output_type": "execute_result"
    }
   ],
   "source": [
    "\"\".join(bin_seq[0:0+4])"
   ]
  },
  {
   "cell_type": "code",
   "execution_count": 67,
   "metadata": {},
   "outputs": [
    {
     "data": {
      "text/plain": [
       "['01101000011001010110110001101100',\n",
       " '01101111001000000111011101101111',\n",
       " '01110010011011000110010010000000',\n",
       " '00000000000000000000000000000000',\n",
       " '00000000000000000000000000000000',\n",
       " '00000000000000000000000000000000',\n",
       " '00000000000000000000000000000000',\n",
       " '00000000000000000000000000000000',\n",
       " '00000000000000000000000000000000',\n",
       " '00000000000000000000000000000000',\n",
       " '00000000000000000000000000000000',\n",
       " '00000000000000000000000000000000',\n",
       " '00000000000000000000000000000000',\n",
       " '00000000000000000000000000000000',\n",
       " '00000000000000000000000000000000',\n",
       " '00000000000000000000000010110000']"
      ]
     },
     "execution_count": 67,
     "metadata": {},
     "output_type": "execute_result"
    }
   ],
   "source": [
    "chunks"
   ]
  },
  {
   "cell_type": "code",
   "execution_count": 13,
   "metadata": {},
   "outputs": [
    {
     "data": {
      "text/plain": [
       "16"
      ]
     },
     "execution_count": 13,
     "metadata": {},
     "output_type": "execute_result"
    }
   ],
   "source": [
    "len(chunks)"
   ]
  },
  {
   "cell_type": "code",
   "execution_count": 14,
   "metadata": {},
   "outputs": [
    {
     "data": {
      "text/plain": [
       "['01101000011001010110110001101100',\n",
       " '01101111001000000111011101101111',\n",
       " '01110010011011000110010010000000',\n",
       " '00000000000000000000000000000000',\n",
       " '00000000000000000000000000000000',\n",
       " '00000000000000000000000000000000',\n",
       " '00000000000000000000000000000000',\n",
       " '00000000000000000000000000000000',\n",
       " '00000000000000000000000000000000',\n",
       " '00000000000000000000000000000000',\n",
       " '00000000000000000000000000000000',\n",
       " '00000000000000000000000000000000',\n",
       " '00000000000000000000000000000000',\n",
       " '00000000000000000000000000000000',\n",
       " '00000000000000000000000000000000',\n",
       " '00000000000000000000000010110000',\n",
       " '00000000000000000000000000000000',\n",
       " '00000000000000000000000000000000',\n",
       " '00000000000000000000000000000000',\n",
       " '00000000000000000000000000000000',\n",
       " '00000000000000000000000000000000',\n",
       " '00000000000000000000000000000000',\n",
       " '00000000000000000000000000000000',\n",
       " '00000000000000000000000000000000',\n",
       " '00000000000000000000000000000000',\n",
       " '00000000000000000000000000000000',\n",
       " '00000000000000000000000000000000',\n",
       " '00000000000000000000000000000000',\n",
       " '00000000000000000000000000000000',\n",
       " '00000000000000000000000000000000',\n",
       " '00000000000000000000000000000000',\n",
       " '00000000000000000000000000000000',\n",
       " '00000000000000000000000000000000',\n",
       " '00000000000000000000000000000000',\n",
       " '00000000000000000000000000000000',\n",
       " '00000000000000000000000000000000',\n",
       " '00000000000000000000000000000000',\n",
       " '00000000000000000000000000000000',\n",
       " '00000000000000000000000000000000',\n",
       " '00000000000000000000000000000000',\n",
       " '00000000000000000000000000000000',\n",
       " '00000000000000000000000000000000',\n",
       " '00000000000000000000000000000000',\n",
       " '00000000000000000000000000000000',\n",
       " '00000000000000000000000000000000',\n",
       " '00000000000000000000000000000000',\n",
       " '00000000000000000000000000000000',\n",
       " '00000000000000000000000000000000',\n",
       " '00000000000000000000000000000000',\n",
       " '00000000000000000000000000000000',\n",
       " '00000000000000000000000000000000',\n",
       " '00000000000000000000000000000000',\n",
       " '00000000000000000000000000000000',\n",
       " '00000000000000000000000000000000',\n",
       " '00000000000000000000000000000000',\n",
       " '00000000000000000000000000000000',\n",
       " '00000000000000000000000000000000',\n",
       " '00000000000000000000000000000000',\n",
       " '00000000000000000000000000000000',\n",
       " '00000000000000000000000000000000',\n",
       " '00000000000000000000000000000000',\n",
       " '00000000000000000000000000000000',\n",
       " '00000000000000000000000000000000',\n",
       " '00000000000000000000000000000000']"
      ]
     },
     "execution_count": 14,
     "metadata": {},
     "output_type": "execute_result"
    }
   ],
   "source": [
    "w = chunks + (\"0 \".zfill(33)*48).split()\n",
    "w"
   ]
  },
  {
   "cell_type": "code",
   "execution_count": 72,
   "metadata": {},
   "outputs": [
    {
     "data": {
      "text/plain": [
       "64"
      ]
     },
     "execution_count": 72,
     "metadata": {},
     "output_type": "execute_result"
    }
   ],
   "source": [
    "len(w)"
   ]
  },
  {
   "cell_type": "code",
   "execution_count": 74,
   "metadata": {},
   "outputs": [
    {
     "name": "stdout",
     "output_type": "stream",
     "text": [
      "[1, 2, 3, 4, 5, 6, 7]\n",
      "[5, 6, 7, 1, 2, 3, 4]\n"
     ]
    }
   ],
   "source": [
    "#right rotate by 7\n",
    "w1 = w[1]\n",
    "w2 = w1[-7:] + w1[:-7] \n",
    "print(w1)\n",
    "print(w2)"
   ]
  },
  {
   "cell_type": "code",
   "execution_count": null,
   "metadata": {},
   "outputs": [],
   "source": []
  }
 ],
 "metadata": {
  "kernelspec": {
   "display_name": "Python 3",
   "language": "python",
   "name": "python3"
  },
  "language_info": {
   "codemirror_mode": {
    "name": "ipython",
    "version": 3
   },
   "file_extension": ".py",
   "mimetype": "text/x-python",
   "name": "python",
   "nbconvert_exporter": "python",
   "pygments_lexer": "ipython3",
   "version": "3.6.9"
  }
 },
 "nbformat": 4,
 "nbformat_minor": 4
}
