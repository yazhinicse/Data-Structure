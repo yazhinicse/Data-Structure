{
 "cells": [
  {
   "cell_type": "code",
   "execution_count": 4,
   "metadata": {},
   "outputs": [],
   "source": [
    "class Node:\n",
    "    def __init__(self,data):\n",
    "        self.data = data\n",
    "        self.next = None"
   ]
  },
  {
   "cell_type": "code",
   "execution_count": 18,
   "metadata": {},
   "outputs": [],
   "source": [
    "class Stack:\n",
    "    def __init__(self):\n",
    "        self.start = None\n",
    "     \n",
    "    def isEmpty(self):\n",
    "        if self.start == None:\n",
    "            return True\n",
    "        else:\n",
    "            return False\n",
    "     \n",
    "    def push(self,data):\n",
    "        if self.start == None:\n",
    "            self.start = Node(data)\n",
    "        else:\n",
    "            newnode = Node(data)\n",
    "            newnode.next = self.start\n",
    "            self.start = newnode\n",
    "     \n",
    "    def pop(self):\n",
    "        if self.isEmpty():\n",
    "            print(\"Stack is empty\")\n",
    "        else:\n",
    "            delnode = self.start\n",
    "            self.start = self.start.next\n",
    "            delnode.next = None\n",
    "            print(delnode.data, \"has been deleted\")\n",
    "     \n",
    "    def top(self):\n",
    "        if self.isEmpty():\n",
    "            print(\"Stack is empty\")        \n",
    "        else:\n",
    "            return self.start.data\n",
    "     \n",
    "    def printStack(self):\n",
    "        node = self.start\n",
    "        if self.isEmpty():\n",
    "            print(\"Stack Underflow\") \n",
    "        else:\n",
    "            while(node != None):\n",
    "                print(node.data, end = \" \")\n",
    "                node = node.next\n",
    "            return"
   ]
  },
  {
   "cell_type": "code",
   "execution_count": 19,
   "metadata": {},
   "outputs": [
    {
     "name": "stdout",
     "output_type": "stream",
     "text": [
      "19 14 5 \n",
      "Top element is  19\n",
      "19 has been deleted\n",
      "14 has been deleted\n",
      "5 "
     ]
    }
   ],
   "source": [
    "if __name__ == '__main__':\n",
    "    s = Stack()\n",
    "    s.push(5)\n",
    "    s.push(14)\n",
    "    s.push(19)\n",
    "    s.printStack()\n",
    "    print(\"\\nTop element is \", s.top())\n",
    "    s.pop()\n",
    "    s.pop()\n",
    "    s.printStack()"
   ]
  },
  {
   "cell_type": "code",
   "execution_count": 23,
   "metadata": {},
   "outputs": [
    {
     "name": "stdout",
     "output_type": "stream",
     "text": [
      "80 62 90 ------------------\n",
      "80 has been deleted\n",
      "62 has been deleted\n",
      "90 has been deleted\n",
      "Stack Underflow\n",
      "Stack is empty\n"
     ]
    }
   ],
   "source": [
    "s = Stack()\n",
    "s.push(90)\n",
    "s.push(62)\n",
    "s.push(80)\n",
    "s.printStack()\n",
    "print(\"------------------\")\n",
    "s.pop()\n",
    "s.pop()\n",
    "s.pop()\n",
    "s.printStack()\n",
    "s.top()"
   ]
  },
  {
   "cell_type": "code",
   "execution_count": null,
   "metadata": {},
   "outputs": [],
   "source": []
  }
 ],
 "metadata": {
  "kernelspec": {
   "display_name": "Python 3",
   "language": "python",
   "name": "python3"
  },
  "language_info": {
   "codemirror_mode": {
    "name": "ipython",
    "version": 3
   },
   "file_extension": ".py",
   "mimetype": "text/x-python",
   "name": "python",
   "nbconvert_exporter": "python",
   "pygments_lexer": "ipython3",
   "version": "3.6.9"
  }
 },
 "nbformat": 4,
 "nbformat_minor": 4
}
