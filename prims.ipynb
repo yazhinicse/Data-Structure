{
 "cells": [
  {
   "cell_type": "code",
   "execution_count": 3,
   "metadata": {},
   "outputs": [
    {
     "name": "stdout",
     "output_type": "stream",
     "text": [
      "Edge \tWeight\n",
      "0 - 1 \t 2\n",
      "1 - 2 \t 3\n",
      "0 - 3 \t 6\n",
      "1 - 4 \t 5\n"
     ]
    }
   ],
   "source": [
    "import sys \n",
    "\n",
    "class Graph():\n",
    "\n",
    "    def __init__(self, vertices):\n",
    "        self.V = vertices\n",
    "        self.graph = [[0 for column in range(vertices)] for row in range(vertices)]\n",
    "\n",
    "    # A utility function to print the constructed MST stored in parent[]\n",
    "    def printMST(self, parent):\n",
    "        print(\"Edge \\tWeight\")\n",
    "        for i in range(1, self.V):\n",
    "            print(parent[i], \"-\", i, \"\\t\", self.graph[i][ parent[i] ])\n",
    "\n",
    "    # A utility function to find the vertex with minimum distance value, from the set of vertices not yet included in shortest path tree\n",
    "    def minKey(self, key, mstSet):\n",
    "\n",
    "        # Initialize min value\n",
    "        min = sys.maxsize\n",
    "\n",
    "        for v in range(self.V):\n",
    "            if key[v] < min and mstSet[v] == False:\n",
    "                min = key[v]\n",
    "                min_index = v\n",
    "\n",
    "        return min_index\n",
    "\n",
    "    # Function to construct and print MST for a graph represented using adjacency matrix representation\n",
    "    def primMST(self):\n",
    "\n",
    "        # Key values used to pick minimum weight edge in cut\n",
    "        key = [sys.maxsize] * self.V\n",
    "        parent = [None] * self.V # Array to store constructed MST\n",
    "        # Make key 0 so that this vertex is picked as first vertex\n",
    "        key[0] = 0\n",
    "        mstSet = [False] * self.V\n",
    "\n",
    "        parent[0] = -1 # First node is always the root of\n",
    "\n",
    "        for cout in range(self.V):\n",
    "\n",
    "            # Pick the minimum distance vertex from the set of vertices not yet processed. u is always equal to src in first iteration\n",
    "            u = self.minKey(key, mstSet)\n",
    "\n",
    "            # Put the minimum distance vertex in the shortest path tree\n",
    "            mstSet[u] = True\n",
    "\n",
    "            # Update dist value of the adjacent vertices of the picked vertex only if the current distance is greater than new distance and\n",
    "            # the vertex in not in the shortest path tree\n",
    "            for v in range(self.V):\n",
    "\n",
    "                # graph[u][v] is non zero only for adjacent vertices of m mstSet[v] is false for vertices not yet included in MST\n",
    "                # Update the key only if graph[u][v] is smaller than key[v]\n",
    "                if self.graph[u][v] > 0 and mstSet[v] == False and key[v] > self.graph[u][v]:\n",
    "                        key[v] = self.graph[u][v]\n",
    "                        parent[v] = u\n",
    "\n",
    "        self.printMST(parent)\n",
    "\n",
    "g = Graph(5)\n",
    "g.graph = [ [0, 2, 0, 6, 0],\n",
    "            [2, 0, 3, 8, 5],\n",
    "            [0, 3, 0, 0, 7],\n",
    "            [6, 8, 0, 0, 9],\n",
    "            [0, 5, 7, 9, 0]]\n",
    "\n",
    "g.primMST()"
   ]
  },
  {
   "cell_type": "code",
   "execution_count": null,
   "metadata": {},
   "outputs": [],
   "source": []
  }
 ],
 "metadata": {
  "kernelspec": {
   "display_name": "Python 3",
   "language": "python",
   "name": "python3"
  },
  "language_info": {
   "codemirror_mode": {
    "name": "ipython",
    "version": 3
   },
   "file_extension": ".py",
   "mimetype": "text/x-python",
   "name": "python",
   "nbconvert_exporter": "python",
   "pygments_lexer": "ipython3",
   "version": "3.6.9"
  }
 },
 "nbformat": 4,
 "nbformat_minor": 4
}
