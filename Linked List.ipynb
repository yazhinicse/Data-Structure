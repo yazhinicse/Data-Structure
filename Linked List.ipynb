{
 "cells": [
  {
   "cell_type": "code",
   "execution_count": 3,
   "metadata": {},
   "outputs": [],
   "source": [
    "class Node:\n",
    "    def __init__(self, d):\n",
    "        self.data = d\n",
    "        self.next = None"
   ]
  },
  {
   "cell_type": "code",
   "execution_count": 15,
   "metadata": {},
   "outputs": [],
   "source": [
    "class LinkedList:\n",
    "    def __init__(self):\n",
    "        self.start = None\n",
    "\n",
    "    def printList(self):\n",
    "        if self.start is None:\n",
    "            print(\"List is empty\")\n",
    "            return\n",
    "        else:\n",
    "            n = self.start\n",
    "            while n is not None:\n",
    "                print(n.data, end=\" \")\n",
    "                n = n.next\n",
    "\n",
    "    def insertBegin(self, d):\n",
    "        node = Node(d)\n",
    "        node.next = self.start\n",
    "        self.start = node\n",
    "\n",
    "    def insertEnd(self, d):\n",
    "        node = Node(d)\n",
    "        if self.start is None:\n",
    "            self.start = node\n",
    "            return\n",
    "        n = self.start\n",
    "        while n.next is not None:\n",
    "            n = n.next\n",
    "        n.next = node\n",
    "\n",
    "    def insertPos(self, pos, d):\n",
    "        if pos == 1:\n",
    "            node = Node(d)\n",
    "            node.next = self.start\n",
    "            self.start = node\n",
    "        else:\n",
    "            i = 1\n",
    "            n = self.start\n",
    "        while i < pos-1 and n is not None:\n",
    "            n = n.next\n",
    "            i = i+1\n",
    "        if n is None:\n",
    "            print(\"pos out of bound\")\n",
    "        else: \n",
    "            node = Node(d)\n",
    "            node.next = n.next\n",
    "            n.next = node\n",
    "\n",
    "    def deleteBegin(self):\n",
    "        if self.start is None:\n",
    "            print(\"List is empty\")\n",
    "            return \n",
    "        self.start = self.start.next\n",
    "\n",
    "    def deleteEnd(self):\n",
    "        if self.start is None:\n",
    "            print(\"List is empty\")\n",
    "            return\n",
    "\n",
    "        n = self.start\n",
    "        while n.next.next is not None:\n",
    "            n = n.next\n",
    "        n.next = None\n",
    "\n",
    "    def deleteVal(self, e):\n",
    "        if self.start is None:\n",
    "            print(\"List is empty\")\n",
    "            return\n",
    "\n",
    "        # Deleting first node \n",
    "        if self.start.data == e:\n",
    "            self.start = self.start.next\n",
    "            return\n",
    "\n",
    "        n = self.start\n",
    "        while n.next is not None:\n",
    "            if n.next.data == e:\n",
    "                break\n",
    "            n = n.next\n",
    "\n",
    "        if n.next is None:\n",
    "            print(\"value not found\")\n",
    "        else:\n",
    "            n.next = n.next.next"
   ]
  },
  {
   "cell_type": "code",
   "execution_count": 16,
   "metadata": {},
   "outputs": [
    {
     "name": "stdout",
     "output_type": "stream",
     "text": [
      "0 \n",
      "0 1 2 3 4 5 \n",
      "10 0 1 2 3 4 5 \n",
      "10 0 1 15 2 3 4 5 \n",
      "0 1 15 2 3 4 5 \n",
      "0 1 15 2 3 4 \n",
      "0 1 15 2 3 "
     ]
    }
   ],
   "source": [
    "if __name__=='__main__': \n",
    "    linkedList = LinkedList()\n",
    "    linkedList.insertBegin(0)\n",
    "    linkedList.printList()\n",
    "    print()\n",
    "    linkedList.insertEnd(1)\n",
    "    linkedList.insertEnd(2)\n",
    "    linkedList.insertEnd(3)\n",
    "    linkedList.insertEnd(4)\n",
    "    linkedList.insertEnd(5)\n",
    "    linkedList.printList()\n",
    "    print()\n",
    "    linkedList.insertBegin(10)\n",
    "    linkedList.printList()\n",
    "    print()\n",
    "    linkedList.insertPos(3,15)\n",
    "    linkedList.printList()\n",
    "    print()\n",
    "    linkedList.deleteBegin()\n",
    "    linkedList.printList()\n",
    "    print()\n",
    "    linkedList.deleteEnd()\n",
    "    linkedList.printList()\n",
    "    print()\n",
    "    linkedList.deleteVal(4)\n",
    "    linkedList.printList()"
   ]
  },
  {
   "cell_type": "code",
   "execution_count": 19,
   "metadata": {},
   "outputs": [
    {
     "name": "stdout",
     "output_type": "stream",
     "text": [
      "2 2 "
     ]
    }
   ],
   "source": [
    "if __name__ == '__main__':\n",
    "    ll = LinkedList()\n",
    "    ll.insertPos(1,2)\n",
    "    ll.printList()"
   ]
  },
  {
   "cell_type": "code",
   "execution_count": null,
   "metadata": {},
   "outputs": [],
   "source": []
  },
  {
   "cell_type": "code",
   "execution_count": null,
   "metadata": {},
   "outputs": [],
   "source": []
  },
  {
   "cell_type": "code",
   "execution_count": null,
   "metadata": {},
   "outputs": [],
   "source": []
  },
  {
   "cell_type": "code",
   "execution_count": null,
   "metadata": {},
   "outputs": [],
   "source": []
  }
 ],
 "metadata": {
  "kernelspec": {
   "display_name": "Python 3",
   "language": "python",
   "name": "python3"
  },
  "language_info": {
   "codemirror_mode": {
    "name": "ipython",
    "version": 3
   },
   "file_extension": ".py",
   "mimetype": "text/x-python",
   "name": "python",
   "nbconvert_exporter": "python",
   "pygments_lexer": "ipython3",
   "version": "3.6.9"
  }
 },
 "nbformat": 4,
 "nbformat_minor": 4
}
